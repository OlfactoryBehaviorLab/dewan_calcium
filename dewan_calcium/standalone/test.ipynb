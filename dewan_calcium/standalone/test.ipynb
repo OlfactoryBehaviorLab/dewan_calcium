{
 "cells": [
  {
   "metadata": {},
   "cell_type": "code",
   "source": [
    "from dewan_calcium.dewan_calcium.helpers.combine_data import combine_data\n",
    "%load_ext autoreload\n",
    "%autoreload 2"
   ],
   "id": "1610fef077c1c3c0",
   "outputs": [],
   "execution_count": null
  },
  {
   "metadata": {
    "collapsed": true,
    "ExecuteTime": {
     "end_time": "2025-02-12T20:18:16.929848Z",
     "start_time": "2025-02-12T20:18:16.912059Z"
    }
   },
   "cell_type": "code",
   "source": [
    "import os\n",
    "os.environ['ISX'] = '0'\n",
    "\n",
    "import pandas as pd\n",
    "import numpy as np\n",
    "\n",
    "from dewan_calcium.dewan_calcium.standalone import get_project_files, combine_data\n",
    "from pathlib import Path\n"
   ],
   "id": "initial_id",
   "outputs": [],
   "execution_count": 56
  },
  {
   "metadata": {
    "ExecuteTime": {
     "end_time": "2025-02-12T20:18:19.441691Z",
     "start_time": "2025-02-12T20:18:17.742645Z"
    }
   },
   "cell_type": "code",
   "source": [
    "input_dir = Path('/mnt/r/2_Inscopix/1_DTT/1_OdorAnalysis/2_Identity/')\n",
    "output_dir_root = Path(r'/mnt/r/2_Inscopix/1_DTT/5_Combined')\n",
    "\n",
    "animal_types = ['VGLUT']\n",
    "data_files = get_project_files.get_folders(input_dir, 'Identity', animal_types, error=False)\n",
    "data_files = data_files['VGLUT']"
   ],
   "id": "7b4e34db078b01b3",
   "outputs": [],
   "execution_count": 57
  },
  {
   "metadata": {
    "ExecuteTime": {
     "end_time": "2025-02-12T20:21:34.173898Z",
     "start_time": "2025-02-12T20:18:23.217762Z"
    }
   },
   "cell_type": "code",
   "source": [
    "combined_data, combined_sig_table, stats, total_cells = combine_data.combine(data_files)\n",
    "stem='VGLUT_Comb'\n",
    "num_animals = len(data_files)\n",
    "combine_data.write_to_disk(combined_data, combined_sig_table, output_dir_root, stem, stats, total_cells, num_animals)"
   ],
   "id": "d83fbb2f7d458b28",
   "outputs": [
    {
     "name": "stderr",
     "output_type": "stream",
     "text": [
      " 25%|██▌       | 1/4 [00:17<00:52, 17.65s/it]"
     ]
    },
    {
     "name": "stdout",
     "output_type": "stream",
     "text": [
      "Dropped ['C25' 'C64' 'C71'] for having responses to MO and Buzzer!\n",
      "Dropped ['C02' 'C03' 'C04' 'C07' 'C09' 'C13' 'C21' 'C22' 'C26' 'C27' 'C29' 'C30'\n",
      " 'C41' 'C42' 'C44' 'C46' 'C48' 'C50' 'C52' 'C54' 'C55' 'C56' 'C62' 'C63'\n",
      " 'C72' 'C80' 'C89' 'C92' 'C94'] for having no significant excitatory responses!\n"
     ]
    },
    {
     "name": "stderr",
     "output_type": "stream",
     "text": [
      " 50%|█████     | 2/4 [00:45<00:47, 23.70s/it]"
     ]
    },
    {
     "name": "stdout",
     "output_type": "stream",
     "text": [
      "Dropped ['C081'] for having responses to MO and Buzzer!\n",
      "Dropped ['C000' 'C002' 'C003' 'C004' 'C005' 'C006' 'C008' 'C009' 'C010' 'C012'\n",
      " 'C013' 'C014' 'C017' 'C018' 'C019' 'C020' 'C022' 'C024' 'C025' 'C026'\n",
      " 'C029' 'C030' 'C031' 'C032' 'C033' 'C034' 'C035' 'C036' 'C038' 'C040'\n",
      " 'C041' 'C044' 'C047' 'C048' 'C049' 'C050' 'C051' 'C053' 'C054' 'C056'\n",
      " 'C057' 'C058' 'C059' 'C060' 'C061' 'C062' 'C063' 'C064' 'C066' 'C067'\n",
      " 'C070' 'C072' 'C074' 'C076' 'C077' 'C078' 'C080' 'C085' 'C087' 'C089'\n",
      " 'C092' 'C093' 'C094' 'C096' 'C099' 'C100' 'C105' 'C106' 'C107' 'C108'\n",
      " 'C110' 'C112' 'C114' 'C116' 'C117' 'C118' 'C119' 'C122' 'C124' 'C125'] for having no significant excitatory responses!\n"
     ]
    },
    {
     "name": "stderr",
     "output_type": "stream",
     "text": [
      " 75%|███████▌  | 3/4 [02:02<00:48, 48.03s/it]"
     ]
    },
    {
     "name": "stdout",
     "output_type": "stream",
     "text": [
      "Dropped ['C285'] for having responses to MO and Buzzer!\n",
      "Dropped ['C001' 'C003' 'C004' 'C005' 'C006' 'C007' 'C008' 'C009' 'C010' 'C011'\n",
      " 'C012' 'C013' 'C014' 'C015' 'C017' 'C018' 'C019' 'C020' 'C021' 'C023'\n",
      " 'C024' 'C025' 'C026' 'C027' 'C028' 'C029' 'C030' 'C032' 'C033' 'C034'\n",
      " 'C035' 'C036' 'C037' 'C039' 'C041' 'C042' 'C043' 'C044' 'C045' 'C046'\n",
      " 'C047' 'C048' 'C049' 'C050' 'C051' 'C052' 'C053' 'C054' 'C055' 'C056'\n",
      " 'C057' 'C058' 'C059' 'C060' 'C061' 'C062' 'C063' 'C064' 'C065' 'C066'\n",
      " 'C067' 'C068' 'C069' 'C071' 'C072' 'C073' 'C074' 'C075' 'C076' 'C077'\n",
      " 'C078' 'C080' 'C081' 'C082' 'C084' 'C085' 'C086' 'C087' 'C088' 'C089'\n",
      " 'C091' 'C092' 'C093' 'C094' 'C095' 'C097' 'C098' 'C099' 'C100' 'C101'\n",
      " 'C102' 'C104' 'C105' 'C106' 'C107' 'C109' 'C110' 'C111' 'C112' 'C113'\n",
      " 'C114' 'C116' 'C117' 'C118' 'C119' 'C120' 'C122' 'C123' 'C124' 'C125'\n",
      " 'C126' 'C127' 'C128' 'C129' 'C130' 'C131' 'C132' 'C133' 'C134' 'C135'\n",
      " 'C136' 'C137' 'C139' 'C140' 'C142' 'C143' 'C144' 'C145' 'C146' 'C147'\n",
      " 'C148' 'C149' 'C150' 'C151' 'C152' 'C153' 'C154' 'C155' 'C156' 'C157'\n",
      " 'C160' 'C161' 'C163' 'C166' 'C169' 'C170' 'C171' 'C172' 'C173' 'C174'\n",
      " 'C175' 'C176' 'C177' 'C178' 'C179' 'C180' 'C181' 'C182' 'C183' 'C184'\n",
      " 'C185' 'C186' 'C187' 'C188' 'C189' 'C190' 'C191' 'C192' 'C193' 'C194'\n",
      " 'C195' 'C196' 'C197' 'C198' 'C199' 'C200' 'C201' 'C202' 'C204' 'C205'\n",
      " 'C206' 'C207' 'C208' 'C209' 'C210' 'C211' 'C212' 'C213' 'C214' 'C215'\n",
      " 'C216' 'C217' 'C219' 'C220' 'C221' 'C222' 'C223' 'C224' 'C225' 'C226'\n",
      " 'C227' 'C228' 'C229' 'C231' 'C232' 'C233' 'C234' 'C235' 'C236' 'C237'\n",
      " 'C238' 'C239' 'C240' 'C242' 'C243' 'C244' 'C245' 'C246' 'C248' 'C249'\n",
      " 'C250' 'C251' 'C252' 'C253' 'C254' 'C255' 'C256' 'C258' 'C259' 'C262'\n",
      " 'C263' 'C265' 'C267' 'C268' 'C270' 'C271' 'C272' 'C274' 'C275' 'C278'\n",
      " 'C283' 'C289' 'C290' 'C291' 'C294' 'C296' 'C298' 'C299' 'C301' 'C302'\n",
      " 'C303' 'C304' 'C307' 'C310' 'C311' 'C314' 'C317' 'C318' 'C319' 'C320'\n",
      " 'C323' 'C326' 'C328' 'C330' 'C332' 'C333' 'C337' 'C339' 'C340' 'C341'\n",
      " 'C342' 'C344' 'C345' 'C346' 'C348' 'C354' 'C356' 'C358' 'C359' 'C361'\n",
      " 'C362'] for having no significant excitatory responses!\n"
     ]
    },
    {
     "name": "stderr",
     "output_type": "stream",
     "text": [
      "100%|██████████| 4/4 [02:54<00:00, 43.74s/it]"
     ]
    },
    {
     "name": "stdout",
     "output_type": "stream",
     "text": [
      "Dropped ['C014' 'C022'] for having responses to MO and Buzzer!\n",
      "Dropped ['C000' 'C001' 'C002' 'C003' 'C004' 'C006' 'C007' 'C009' 'C010' 'C011'\n",
      " 'C012' 'C015' 'C016' 'C018' 'C020' 'C021' 'C023' 'C024' 'C025' 'C026'\n",
      " 'C027' 'C029' 'C030' 'C032' 'C033' 'C034' 'C035' 'C036' 'C038' 'C040'\n",
      " 'C041' 'C043' 'C044' 'C045' 'C046' 'C051' 'C052' 'C054' 'C055' 'C056'\n",
      " 'C057' 'C058' 'C060' 'C061' 'C062' 'C063' 'C064' 'C065' 'C066' 'C067'\n",
      " 'C068' 'C069' 'C070' 'C071' 'C072' 'C073' 'C074' 'C075' 'C077' 'C078'\n",
      " 'C079' 'C080' 'C081' 'C082' 'C083' 'C085' 'C086' 'C087' 'C089' 'C090'\n",
      " 'C091' 'C092' 'C093' 'C094' 'C095' 'C099' 'C101' 'C102' 'C103' 'C104'\n",
      " 'C105' 'C107' 'C108' 'C109' 'C110' 'C111' 'C112' 'C113' 'C114' 'C115'\n",
      " 'C116' 'C118' 'C119' 'C120' 'C121' 'C123' 'C124' 'C125' 'C126' 'C127'\n",
      " 'C128' 'C129' 'C130' 'C131' 'C132' 'C134' 'C137' 'C138' 'C139' 'C141'\n",
      " 'C142' 'C145' 'C146' 'C147' 'C148' 'C150' 'C152' 'C153' 'C154' 'C155'\n",
      " 'C156' 'C157' 'C158' 'C159' 'C160' 'C161' 'C162' 'C163' 'C164' 'C165'\n",
      " 'C166' 'C168' 'C169' 'C170' 'C177' 'C178' 'C180' 'C181' 'C182' 'C183'\n",
      " 'C185' 'C186' 'C188' 'C190' 'C192' 'C193' 'C195' 'C196' 'C197' 'C198'\n",
      " 'C199' 'C200' 'C201' 'C202' 'C203' 'C205' 'C209' 'C210' 'C211' 'C212'\n",
      " 'C213' 'C214' 'C215' 'C216' 'C217' 'C218' 'C220' 'C221' 'C222' 'C223'\n",
      " 'C225' 'C226' 'C227' 'C228' 'C231' 'C233' 'C235' 'C238' 'C239' 'C240'] for having no significant excitatory responses!\n",
      "Writing combined data for VGLUT_Comb to disk...\n"
     ]
    },
    {
     "name": "stderr",
     "output_type": "stream",
     "text": [
      "\n"
     ]
    },
    {
     "name": "stdout",
     "output_type": "stream",
     "text": [
      "Writing combined significance table for VGLUT_Comb to disk...\n",
      "Combined data for VGLUT_Comb successfully written to disk!\n"
     ]
    }
   ],
   "execution_count": 58
  },
  {
   "metadata": {},
   "cell_type": "code",
   "source": "",
   "id": "a5112508abd152d1",
   "outputs": [],
   "execution_count": null
  }
 ],
 "metadata": {
  "kernelspec": {
   "display_name": "Python 3",
   "language": "python",
   "name": "python3"
  },
  "language_info": {
   "codemirror_mode": {
    "name": "ipython",
    "version": 2
   },
   "file_extension": ".py",
   "mimetype": "text/x-python",
   "name": "python",
   "nbconvert_exporter": "python",
   "pygments_lexer": "ipython2",
   "version": "2.7.6"
  }
 },
 "nbformat": 4,
 "nbformat_minor": 5
}
